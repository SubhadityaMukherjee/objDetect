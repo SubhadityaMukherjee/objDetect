{
 "cells": [
  {
   "cell_type": "code",
   "execution_count": 22,
   "metadata": {
    "colab": {
     "base_uri": "https://localhost:8080/",
     "height": 34
    },
    "colab_type": "code",
    "id": "rE_oVn61dneL",
    "outputId": "cd1928d4-f878-48dd-af27-d3a73a6c5844"
   },
   "outputs": [
    {
     "name": "stdout",
     "output_type": "stream",
     "text": [
      "Drive already mounted at /gdrive; to attempt to forcibly remount, call drive.mount(\"/gdrive\", force_remount=True).\n"
     ]
    }
   ],
   "source": [
    "from google.colab import drive\n",
    "drive.mount('/gdrive')"
   ]
  },
  {
   "cell_type": "code",
   "execution_count": 0,
   "metadata": {
    "colab": {},
    "colab_type": "code",
    "id": "XCAEMBdSeWud"
   },
   "outputs": [],
   "source": [
    "import cv2\n",
    "import numpy as np"
   ]
  },
  {
   "cell_type": "code",
   "execution_count": 0,
   "metadata": {
    "colab": {},
    "colab_type": "code",
    "id": "FL__LV4Sgx9p"
   },
   "outputs": [],
   "source": [
    "# ! cd /gdrive/My\\ Drive && wget https://pjreddie.com/media/files/yolov3.weights"
   ]
  },
  {
   "cell_type": "markdown",
   "metadata": {
    "colab_type": "text",
    "id": "p_0bk9tkjRtr"
   },
   "source": []
  },
  {
   "cell_type": "code",
   "execution_count": 0,
   "metadata": {
    "colab": {},
    "colab_type": "code",
    "id": "8_nnb-XxkCdA"
   },
   "outputs": [],
   "source": [
    "def get_output_layers(net):\n",
    "    layer_names = net.getLayerNames()\n",
    "    output_layers = [layer_names[i[0]-1] for i in net.getUnconnectedOutLayers()]\n",
    "    return output_layers\n",
    "\n",
    "def draw_bounding_box(img,class_id,confidence,x,y,x_plus_w,y_plus_h):\n",
    "    label = str(classes[class_id])\n",
    "    color = colors[class_id]\n",
    "    cv2.rectangle(img,(x,y),(x_plus_w,y_plus_h),color,2)\n",
    "    cv2.putText(img, label, (x-10,y-10), cv2.FONT_HERSHEY_SIMPLEX, 0.5, color, 2)"
   ]
  },
  {
   "cell_type": "code",
   "execution_count": 0,
   "metadata": {
    "colab": {},
    "colab_type": "code",
    "id": "IKZ2aKAAkfCP"
   },
   "outputs": [],
   "source": [
    "def main_run(imagepath):\n",
    "    config = '/gdrive/My Drive/Colab_ML/Object Recognition/yolov3.cfg'\n",
    "    weights = '/gdrive/M  y Drive/Colab_ML/Object Recognition/yolov3.weights'\n",
    "    classes = '/gdrive/My Drive/Colab_ML/Object Recognition/yolov3.txt'\n",
    "    net = ''\n",
    "#     imagepath = '/gdrive/My Drive/Colab_ML/Object Recognition/testImages/1.png'\n",
    "    \n",
    "    image = cv2.imread(imagepath)\n",
    "    Width,Height = image.shape[1],image.shape[0]\n",
    "    scale = .00392\n",
    "\n",
    "    classes = None\n",
    "    f = open('/gdrive/My Drive/Colab_ML/Object Recognition/yolov3.txt','r')\n",
    "    classes = [line.strip() for line in f.readlines()]\n",
    "\n",
    "    colors = np.random.uniform(0,255,size = (len(classes),3))\n",
    "    net = cv2.dnn.readNet(weights,config)\n",
    "    blob = cv2.dnn.blobFromImage(image,scale,(416,416), (0,0,0), True, crop=False)\n",
    "    net.setInput(blob)\n",
    "    \n",
    "    outs = net.forward(get_output_layers(net))\n",
    "    class_ids = []\n",
    "    confidences = []\n",
    "    boxes = []\n",
    "    conf_threshold = 0.5\n",
    "    nms_threshold = 0.4\n",
    "\n",
    "    for out in outs:\n",
    "        for detection in out:\n",
    "            scores = detection[5:]\n",
    "            class_id = np.argmax(scores)\n",
    "            confidence = scores[class_id]\n",
    "            if confidence >0.5:\n",
    "                center_x = int(detection[0]*Width)\n",
    "                center_y = int(detection[1]*Height)\n",
    "                w = int(detection[2]*Width)\n",
    "                h = int(detection[3]*Height)\n",
    "                x = center_x -w/2\n",
    "                y = center_y-h/2\n",
    "                class_ids.append(class_id)\n",
    "                confidences.append(float(confidence))\n",
    "                boxes.append([x,y,w,h])\n",
    "\n",
    "    # Non max suppresion\n",
    "    indices = cv2.dnn.NMSBoxes(boxes,confidences,conf_threshold,nms_threshold)\n",
    "    for i in indices:\n",
    "        i = i[0]\n",
    "        box = boxes[i]\n",
    "        x,y,w,h = box[0],box[1],box[2],box[3]\n",
    "\n",
    "        draw_bounding_box(image,class_ids[i],confidences[i],round(x),round(y),round(x+y),round(y+h))\n",
    "    imname = imagepath.split('/')[-1]\n",
    "    cv2.imwrite(\"/gdrive/My Drive/Colab_ML/Object Recognition/outputs/{}\".format(imname),image)\n",
    "\n",
    "    "
   ]
  },
  {
   "cell_type": "code",
   "execution_count": 0,
   "metadata": {
    "colab": {},
    "colab_type": "code",
    "id": "Kije73ZwlDMC"
   },
   "outputs": [],
   "source": [
    "for a in range(10):\n",
    "    main_run('/gdrive/My Drive/Colab_ML/Object Recognition/testImages/{}.png'.format(a))"
   ]
  }
 ],
 "metadata": {
  "accelerator": "GPU",
  "colab": {
   "collapsed_sections": [],
   "name": "objdetect",
   "provenance": [],
   "version": "0.3.2"
  },
  "kernelspec": {
   "display_name": "Python 3",
   "language": "python",
   "name": "python3"
  },
  "language_info": {
   "codemirror_mode": {
    "name": "ipython",
    "version": 3
   },
   "file_extension": ".py",
   "mimetype": "text/x-python",
   "name": "python",
   "nbconvert_exporter": "python",
   "pygments_lexer": "ipython3",
   "version": "3.6.5"
  }
 },
 "nbformat": 4,
 "nbformat_minor": 1
}
